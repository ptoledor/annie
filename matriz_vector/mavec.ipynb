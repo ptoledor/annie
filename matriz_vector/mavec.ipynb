{
 "cells": [
  {
   "cell_type": "code",
   "execution_count": 11,
   "metadata": {},
   "outputs": [],
   "source": [
    "import numpy as np\n",
    "import pandas as pd"
   ]
  },
  {
   "cell_type": "code",
   "execution_count": 12,
   "metadata": {},
   "outputs": [],
   "source": [
    "archivo = pd.ExcelFile('04. PPTO RH - Detalle por CECO v2 - ptoledor.xlsx')"
   ]
  },
  {
   "cell_type": "code",
   "execution_count": 13,
   "metadata": {},
   "outputs": [],
   "source": [
    "writer = pd.ExcelWriter('output_anita.xlsx')"
   ]
  },
  {
   "cell_type": "code",
   "execution_count": 14,
   "metadata": {},
   "outputs": [],
   "source": [
    "ccat = pd.DataFrame()\n",
    "\n",
    "for sheet in archivo.sheet_names:\n",
    "    df = archivo.parse(sheet)\n",
    "    df.insert(loc=0, column='Hoja', value=sheet)\n",
    "\n",
    "    for col in df.columns[6:]:\n",
    "        df[col] = df[col].fillna(0)\n",
    "\n",
    "    ccat = pd.concat([ccat, df], ignore_index=True)\n",
    "\n",
    "ccat.to_excel(writer, 'Matriz', index=False)"
   ]
  },
  {
   "cell_type": "code",
   "execution_count": 15,
   "metadata": {},
   "outputs": [],
   "source": [
    "ccat_vector = pd.melt(ccat, id_vars=ccat.columns[:6], value_vars=ccat.columns[6:], var_name='MES', value_name='VALOR')\n",
    "ccat_vector.to_excel(writer, 'Vector', index=False)\n",
    "\n",
    "writer.close()"
   ]
  }
 ],
 "metadata": {
  "kernelspec": {
   "display_name": "base",
   "language": "python",
   "name": "python3"
  },
  "language_info": {
   "codemirror_mode": {
    "name": "ipython",
    "version": 3
   },
   "file_extension": ".py",
   "mimetype": "text/x-python",
   "name": "python",
   "nbconvert_exporter": "python",
   "pygments_lexer": "ipython3",
   "version": "3.8.8"
  }
 },
 "nbformat": 4,
 "nbformat_minor": 2
}
